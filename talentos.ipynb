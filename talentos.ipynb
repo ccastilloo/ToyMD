{
 "cells": [
  {
   "cell_type": "code",
   "execution_count": null,
   "id": "e2834568",
   "metadata": {},
   "outputs": [],
   "source": [
    "# Cargar todas las librerías necesarias\n",
    "from potentials import *\n",
    "from walker import Trajectory1D\n",
    "import numpy as np\n",
    "import matplotlib.pyplot as plt\n"
   ]
  },
  {
   "cell_type": "markdown",
   "id": "8cc933fd",
   "metadata": {},
   "source": [
    "En este laboratorio usaremos ToyMD una herramienta para crear pequeñas simulaciones utilizando funciones de energía potencial, energía cinética y las leyes de Newton"
   ]
  },
  {
   "cell_type": "markdown",
   "id": "a7989d56",
   "metadata": {},
   "source": [
    "Creemos el primer sistema: la simulación de una molécula diatómica:"
   ]
  },
  {
   "cell_type": "markdown",
   "id": "cd599a32",
   "metadata": {},
   "source": [
    "Una molécula diatómica solo puede vibrar por lo tanto podemos modelar su movimiento y calcular su energía con el potencial armónico"
   ]
  },
  {
   "cell_type": "markdown",
   "id": "a59380a3",
   "metadata": {},
   "source": [
    "$ U(x) = - \\frac{1}{2}k (x-x_{0})^{2}$, donde k y $x_{0}$ son constantes"
   ]
  },
  {
   "cell_type": "markdown",
   "id": "a422bcda",
   "metadata": {},
   "source": [
    "creemos el potencial con las herramientas de ToyMD y simulemos el comportamiento!"
   ]
  },
  {
   "cell_type": "code",
   "execution_count": null,
   "id": "2edefd6a",
   "metadata": {},
   "outputs": [],
   "source": [
    "# Una molécula diatómica solo puede vibrar por lo tanto podemos modelar su movimiento y calcular su energía con el potencial armónico\n",
    "# use la función create_potential para crear el potencial armónico con \"Harmonic\", k=1.0 y x0=0.0 \n"
   ]
  },
  {
   "cell_type": "markdown",
   "id": "123f6449",
   "metadata": {},
   "source": [
    "Una vez creado el potencial lo utilizaremos para generar una simulación!"
   ]
  },
  {
   "cell_type": "code",
   "execution_count": null,
   "id": "5597797f",
   "metadata": {},
   "outputs": [],
   "source": [
    "sim = Trajectory1D(m= , dt=, potential= , x0= , v0= , steps=, integrator=\"VelocityVerlet\")"
   ]
  },
  {
   "cell_type": "markdown",
   "id": "b7e7d3be",
   "metadata": {},
   "source": [
    "si pudo correr la linea anterior significa que creo la simulación, ahora la iniciaremos"
   ]
  },
  {
   "cell_type": "code",
   "execution_count": null,
   "id": "afa8883b",
   "metadata": {},
   "outputs": [],
   "source": [
    "sim.run()"
   ]
  },
  {
   "cell_type": "markdown",
   "id": "24663a12",
   "metadata": {},
   "source": [
    "analicemos como se mueve el sistema a lo largo de la superficie de energía potencial"
   ]
  },
  {
   "cell_type": "code",
   "execution_count": null,
   "id": "418cada2",
   "metadata": {},
   "outputs": [],
   "source": [
    "sim.plot_on_potential(xmin=-11, xmax=10)"
   ]
  },
  {
   "cell_type": "markdown",
   "id": "f33a4e6f",
   "metadata": {},
   "source": [
    "analicemos que ocurre con su energía "
   ]
  },
  {
   "cell_type": "code",
   "execution_count": null,
   "id": "82e7bcd2",
   "metadata": {},
   "outputs": [],
   "source": [
    "traj.plot_energy()"
   ]
  },
  {
   "cell_type": "markdown",
   "id": "d30437ea",
   "metadata": {},
   "source": [
    "por último veamos una animación de la simulación a lo largo de la superficie de energía potencial"
   ]
  },
  {
   "cell_type": "code",
   "execution_count": null,
   "id": "928539df",
   "metadata": {},
   "outputs": [],
   "source": [
    "sim.animate_on_potential(xmin=-10, xmax=10, interval=80)"
   ]
  },
  {
   "cell_type": "markdown",
   "id": "3c9830aa",
   "metadata": {},
   "source": [
    "# FELICIDADES REALIZÓ SU PRIMERA SIMULACIÓN!!"
   ]
  },
  {
   "cell_type": "code",
   "execution_count": null,
   "id": "ae44226d",
   "metadata": {},
   "outputs": [],
   "source": []
  },
  {
   "cell_type": "markdown",
   "id": "c86a387a",
   "metadata": {},
   "source": [
    "ahora utilizaremos un nuevo potencial llamado el potencial de doble pozo asimetrico"
   ]
  },
  {
   "cell_type": "code",
   "execution_count": null,
   "id": "b2868349",
   "metadata": {},
   "outputs": [],
   "source": [
    "pot2 = create_potential(\"AsimmetricDoublewell\", a=0.05, b=6.5, c=3.0)"
   ]
  },
  {
   "cell_type": "code",
   "execution_count": null,
   "id": "1ba3c8e8",
   "metadata": {},
   "outputs": [],
   "source": [
    "sim2 = Trajectory1D()"
   ]
  },
  {
   "cell_type": "markdown",
   "id": "b112d19e",
   "metadata": {},
   "source": [
    "Analizamos igual que la anterior"
   ]
  },
  {
   "cell_type": "code",
   "execution_count": null,
   "id": "696ac372",
   "metadata": {},
   "outputs": [],
   "source": []
  },
  {
   "cell_type": "code",
   "execution_count": null,
   "id": "88673e34",
   "metadata": {},
   "outputs": [],
   "source": []
  },
  {
   "cell_type": "code",
   "execution_count": null,
   "id": "a51e3e0b",
   "metadata": {},
   "outputs": [],
   "source": []
  },
  {
   "cell_type": "markdown",
   "id": "ab7324c4",
   "metadata": {},
   "source": [
    "Finalmente añadiremos temperatura a la simulación haciendola más realista veamos que ocurre"
   ]
  },
  {
   "cell_type": "code",
   "execution_count": null,
   "id": "e1c71f4b",
   "metadata": {},
   "outputs": [],
   "source": [
    "#sim_real = Trajectory1D(potential=pot3, m=1.0, dt=0.02, steps=1000, x0=2.0, v0=0.0, integrator=\"langevin\", gamma=0.1, kT=20.0)"
   ]
  },
  {
   "cell_type": "markdown",
   "id": "2b151638",
   "metadata": {},
   "source": [
    "analicemos"
   ]
  },
  {
   "cell_type": "code",
   "execution_count": null,
   "id": "d048c8dc",
   "metadata": {},
   "outputs": [],
   "source": []
  }
 ],
 "metadata": {
  "kernelspec": {
   "display_name": "Python 3",
   "language": "python",
   "name": "python3"
  },
  "language_info": {
   "codemirror_mode": {
    "name": "ipython",
    "version": 3
   },
   "file_extension": ".py",
   "mimetype": "text/x-python",
   "name": "python",
   "nbconvert_exporter": "python",
   "pygments_lexer": "ipython3",
   "version": "3.8.10"
  }
 },
 "nbformat": 4,
 "nbformat_minor": 5
}
