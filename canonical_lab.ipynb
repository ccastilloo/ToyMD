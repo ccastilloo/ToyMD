{
 "cells": [
  {
   "cell_type": "code",
   "execution_count": 1,
   "id": "43a8423f",
   "metadata": {},
   "outputs": [],
   "source": [
    "# dependencies\n",
    "import numpy as np\n",
    "import matplotlib.pyplot as plt"
   ]
  },
  {
   "cell_type": "markdown",
   "id": "4b319fa5",
   "metadata": {},
   "source": [
    "## Canonical ensemble:1D harmonic oscillator case\n",
    "\n",
    "In our last session we focused in the microcanical ensemble and its state function: the entropy. Today we will explore the features of the canonical ensemble where the number of particles (N), the pressure (P) and the temperature (T) remain as constant. "
   ]
  },
  {
   "cell_type": "markdown",
   "id": "5256a02d",
   "metadata": {},
   "source": [
    "Starting with the 1-D harmonic oscillator case we have the Hamiltonian is :\n",
    "$$\n",
    "H = \\frac{p^2}{2m} + \\frac{1}{2}m \\omega^2 x^2 , \\\\ \\omega = \\sqrt{\\frac{k}{m}}\n",
    "$$"
   ]
  },
  {
   "cell_type": "markdown",
   "id": "8d310822",
   "metadata": {},
   "source": [
    "The main difference with the microcanonical ensemble is the contact with a thermal bath of temperature T. In fact, this allow to the system to remain close to a specific temperature, thus, varying its total energy. \n",
    "Similar to number of microstates $\\Omega(E)$ computed in the NVE ensemble, the canonical ensemble relies on the partition function:\n"
   ]
  },
  {
   "cell_type": "markdown",
   "id": "e4b71d84",
   "metadata": {},
   "source": [
    "$$Z(\\beta)=\\frac{1}{h}\\int_{-\\infty}^{\\infty}d\\textbf{p}\\int_{-\\infty}^{\\infty}d\\textbf{x}e^{-\\beta H(x,p)}, \\\\ \n",
    "\\\\ \\beta = \\frac{1}{k_{B}T} $$"
   ]
  },
  {
   "cell_type": "markdown",
   "id": "4e6f1fc8",
   "metadata": {},
   "source": [
    "if we separate the momentum integrals from the position integrals we get:\n",
    "$$Z(\\beta)=\\frac{1}{h}\\left ( \\int_{-\\infty}^{\\infty}d\\textbf{p}e^{-\\beta \\textbf{p}^{2}/ 2m}\\right ) \\left ( \\int_{-\\infty}^{\\infty}d\\textbf{x}e^{-\\frac{1}{2}\\beta m \\omega^{2}\\textbf{x}^{2}}\\right )$$"
   ]
  },
  {
   "cell_type": "markdown",
   "id": "390761b8",
   "metadata": {},
   "source": [
    "where due to the kinetic energy is always $\\frac{p^2}{2m}$ we can solve the momentum integral as (considering gaussian integration):"
   ]
  },
  {
   "cell_type": "markdown",
   "id": "1022455f",
   "metadata": {},
   "source": [
    "$$ \\int_{-\\infty}^{\\infty}d\\textbf{p}e^{-\\beta \\textbf{p}^{2}/ 2m} = \\sqrt{\\frac{2 \\pi m}{\\beta}}$$"
   ]
  },
  {
   "cell_type": "markdown",
   "id": "2b54927f",
   "metadata": {},
   "source": [
    "On the other hand, due we know the position integral and it has analytic solution for the harmonic oscillator we obtain:"
   ]
  },
  {
   "cell_type": "markdown",
   "id": "6d2fd402",
   "metadata": {},
   "source": [
    "$$ \\int_{-\\infty}^{\\infty}d\\textbf{x}e^{\\frac{1}{2}-\\beta m \\omega^{2} \\textbf{x}^{2}} = \\sqrt{\\frac{2 \\pi }{\\beta m \\omega^{2}}}$$"
   ]
  },
  {
   "cell_type": "markdown",
   "id": "42d79f0c",
   "metadata": {},
   "source": [
    "Thus, the partition function can be explicitely formulated as:"
   ]
  },
  {
   "cell_type": "markdown",
   "id": "b9a009af",
   "metadata": {},
   "source": [
    "$$Z(\\beta) = \\frac{1}{h}\\frac{2 \\pi}{\\beta \\omega}$$"
   ]
  },
  {
   "cell_type": "markdown",
   "id": "79fab597",
   "metadata": {},
   "source": [
    "The partition function is related with the Helmholtz energy trough the following relationship:"
   ]
  },
  {
   "cell_type": "markdown",
   "id": "f4afea06",
   "metadata": {},
   "source": [
    "$$F = -k_{B}T\\ln {Z} = -k_{B}T\\ln {\\left ( \\frac{1}{h}\\frac{2 \\pi}{\\beta \\omega} \\right )}$$"
   ]
  },
  {
   "cell_type": "markdown",
   "id": "85f98e85",
   "metadata": {},
   "source": []
  }
 ],
 "metadata": {
  "kernelspec": {
   "display_name": "Python 3",
   "language": "python",
   "name": "python3"
  },
  "language_info": {
   "codemirror_mode": {
    "name": "ipython",
    "version": 3
   },
   "file_extension": ".py",
   "mimetype": "text/x-python",
   "name": "python",
   "nbconvert_exporter": "python",
   "pygments_lexer": "ipython3",
   "version": "3.8.10"
  }
 },
 "nbformat": 4,
 "nbformat_minor": 5
}
